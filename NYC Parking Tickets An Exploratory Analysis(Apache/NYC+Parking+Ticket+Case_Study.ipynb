{
 "cells": [
  {
   "cell_type": "code",
   "execution_count": 77,
   "metadata": {},
   "outputs": [],
   "source": [
    "# Importing Functions\n",
    "from pyspark.sql.functions import isnan, when, count, col, isnull, concat, lit,to_timestamp, desc"
   ]
  },
  {
   "cell_type": "code",
   "execution_count": 3,
   "metadata": {},
   "outputs": [],
   "source": [
    "# Creating Spark Session\n",
    "from pyspark.sql import SparkSession\n",
    "spark = SparkSession.builder.appName(\"park\").getOrCreate()"
   ]
  },
  {
   "cell_type": "code",
   "execution_count": 4,
   "metadata": {},
   "outputs": [],
   "source": [
    "# Reading data from CSV file and storing values in dataframe\n",
    "# Download Data file from kaggle(https://www.kaggle.com/new-york-city/nyc-parking-tickets/data)\n",
    "df = spark.read.format(\"com.databricks.spark.csv\").option(\"header\",\"true\").option(\"inferSchema\", \"true\").load(\"/common_folder/nyc_parking/Parking_Violations_Issued_-_Fiscal_Year_2017.csv\")"
   ]
  },
  {
   "cell_type": "code",
   "execution_count": 5,
   "metadata": {},
   "outputs": [
    {
     "name": "stdout",
     "output_type": "stream",
     "text": [
      "+--------------+--------+------------------+-------------------+--------------+-----------------+------------+------------------+---------------+--------------+\n",
      "|Summons Number|Plate ID|Registration State|         Issue Date|Violation Code|Vehicle Body Type|Vehicle Make|Violation Precinct|Issuer Precinct|Violation Time|\n",
      "+--------------+--------+------------------+-------------------+--------------+-----------------+------------+------------------+---------------+--------------+\n",
      "|    5092469481| GZH7067|                NY|2016-07-10 00:00:00|             7|             SUBN|       TOYOT|                 0|              0|         0143A|\n",
      "|    5092451658| GZH7067|                NY|2016-07-08 00:00:00|             7|             SUBN|       TOYOT|                 0|              0|         0400P|\n",
      "+--------------+--------+------------------+-------------------+--------------+-----------------+------------+------------------+---------------+--------------+\n",
      "only showing top 2 rows\n",
      "\n"
     ]
    }
   ],
   "source": [
    "#t verify if data frame is created\n",
    "df.show(2)"
   ]
  },
  {
   "cell_type": "code",
   "execution_count": 6,
   "metadata": {},
   "outputs": [],
   "source": [
    "#updating column name for easy access\n",
    "\n",
    "df=df.withColumnRenamed(\"Summons Number\", \"Summons_Number\")\n",
    "df=df.withColumnRenamed(\"Plate ID\", \"Plate_ID\")\n",
    "df=df.withColumnRenamed(\"Registration State\", \"Registration_State\")\n",
    "df=df.withColumnRenamed(\"Issue Date\", \"Issue_Date\")\n",
    "df=df.withColumnRenamed(\"Violation Code\", \"Violation_Code\")\n",
    "df=df.withColumnRenamed(\"Vehicle Body Type\", \"Vehicle_Body_Type\")\n",
    "df=df.withColumnRenamed(\"Vehicle Make\", \"Vehicle_Make\")\n",
    "df=df.withColumnRenamed(\"Violation Precinct\", \"Violation_Precinct\")\n",
    "df=df.withColumnRenamed(\"Issuer Precinct\", \"Issuer_Precinct\")\n",
    "df=df.withColumnRenamed(\"Violation Time\", \"Violation_Time\")"
   ]
  },
  {
   "cell_type": "code",
   "execution_count": 7,
   "metadata": {},
   "outputs": [
    {
     "name": "stdout",
     "output_type": "stream",
     "text": [
      "root\n",
      " |-- Summons_Number: long (nullable = true)\n",
      " |-- Plate_ID: string (nullable = true)\n",
      " |-- Registration_State: string (nullable = true)\n",
      " |-- Issue_Date: timestamp (nullable = true)\n",
      " |-- Violation_Code: integer (nullable = true)\n",
      " |-- Vehicle_Body_Type: string (nullable = true)\n",
      " |-- Vehicle_Make: string (nullable = true)\n",
      " |-- Violation_Precinct: integer (nullable = true)\n",
      " |-- Issuer_Precinct: integer (nullable = true)\n",
      " |-- Violation_Time: string (nullable = true)\n",
      "\n"
     ]
    }
   ],
   "source": [
    "# To check the schema of DF\n",
    "df.printSchema()"
   ]
  },
  {
   "cell_type": "markdown",
   "metadata": {},
   "source": [
    "# Part 1: Examine the data"
   ]
  },
  {
   "cell_type": "markdown",
   "metadata": {},
   "source": [
    "## 1. Find the total number of tickets for the year."
   ]
  },
  {
   "cell_type": "code",
   "execution_count": 8,
   "metadata": {},
   "outputs": [
    {
     "data": {
      "text/plain": [
       "10803028"
      ]
     },
     "execution_count": 8,
     "metadata": {},
     "output_type": "execute_result"
    }
   ],
   "source": [
    "#Total number of records\n",
    "df.count()"
   ]
  },
  {
   "cell_type": "code",
   "execution_count": 13,
   "metadata": {},
   "outputs": [
    {
     "data": {
      "text/plain": [
       "0"
      ]
     },
     "execution_count": 13,
     "metadata": {},
     "output_type": "execute_result"
    }
   ],
   "source": [
    "#Check for Null Values in Each Column. Some columns have null values marked text nan, checking for both cases\n",
    "df.where(col(\"Summons_Number\") == \"nan\").count()"
   ]
  },
  {
   "cell_type": "code",
   "execution_count": 10,
   "metadata": {},
   "outputs": [
    {
     "data": {
      "text/plain": [
       "0"
      ]
     },
     "execution_count": 10,
     "metadata": {},
     "output_type": "execute_result"
    }
   ],
   "source": [
    "df.where(col(\"Summons_Number\").isNull()).count()"
   ]
  },
  {
   "cell_type": "code",
   "execution_count": 83,
   "metadata": {},
   "outputs": [
    {
     "data": {
      "text/plain": [
       "728"
      ]
     },
     "execution_count": 83,
     "metadata": {},
     "output_type": "execute_result"
    }
   ],
   "source": [
    "df.where(col(\"Plate_ID\") == \"nan\").count()"
   ]
  },
  {
   "cell_type": "code",
   "execution_count": 16,
   "metadata": {},
   "outputs": [
    {
     "data": {
      "text/plain": [
       "0"
      ]
     },
     "execution_count": 16,
     "metadata": {},
     "output_type": "execute_result"
    }
   ],
   "source": [
    "df.where(col(\"Plate_ID\").isNull()).count()"
   ]
  },
  {
   "cell_type": "code",
   "execution_count": 85,
   "metadata": {},
   "outputs": [
    {
     "data": {
      "text/plain": [
       "0"
      ]
     },
     "execution_count": 85,
     "metadata": {},
     "output_type": "execute_result"
    }
   ],
   "source": [
    "df.where(col(\"Registration_State\") == \"nan\").count()"
   ]
  },
  {
   "cell_type": "code",
   "execution_count": 84,
   "metadata": {},
   "outputs": [
    {
     "data": {
      "text/plain": [
       "0"
      ]
     },
     "execution_count": 84,
     "metadata": {},
     "output_type": "execute_result"
    }
   ],
   "source": [
    "df.where(col(\"Registration_State\").isNull()).count()"
   ]
  },
  {
   "cell_type": "code",
   "execution_count": 86,
   "metadata": {},
   "outputs": [
    {
     "data": {
      "text/plain": [
       "0"
      ]
     },
     "execution_count": 86,
     "metadata": {},
     "output_type": "execute_result"
    }
   ],
   "source": [
    "df.where(col(\"Issue_Date\") == \"nan\").count()"
   ]
  },
  {
   "cell_type": "code",
   "execution_count": 18,
   "metadata": {},
   "outputs": [
    {
     "data": {
      "text/plain": [
       "0"
      ]
     },
     "execution_count": 18,
     "metadata": {},
     "output_type": "execute_result"
    }
   ],
   "source": [
    "df.where(col(\"Issue_Date\").isNull()).count()"
   ]
  },
  {
   "cell_type": "code",
   "execution_count": 87,
   "metadata": {},
   "outputs": [
    {
     "data": {
      "text/plain": [
       "0"
      ]
     },
     "execution_count": 87,
     "metadata": {},
     "output_type": "execute_result"
    }
   ],
   "source": [
    "df.where(col(\"Violation_Code\") == \"nan\").count()"
   ]
  },
  {
   "cell_type": "code",
   "execution_count": 19,
   "metadata": {},
   "outputs": [
    {
     "data": {
      "text/plain": [
       "0"
      ]
     },
     "execution_count": 19,
     "metadata": {},
     "output_type": "execute_result"
    }
   ],
   "source": [
    "df.where(col(\"Violation_Code\").isNull()).count()"
   ]
  },
  {
   "cell_type": "code",
   "execution_count": 88,
   "metadata": {},
   "outputs": [
    {
     "data": {
      "text/plain": [
       "42711"
      ]
     },
     "execution_count": 88,
     "metadata": {},
     "output_type": "execute_result"
    }
   ],
   "source": [
    "df.where(col(\"Vehicle_Body_Type\") == \"nan\").count()"
   ]
  },
  {
   "cell_type": "code",
   "execution_count": 20,
   "metadata": {},
   "outputs": [
    {
     "data": {
      "text/plain": [
       "0"
      ]
     },
     "execution_count": 20,
     "metadata": {},
     "output_type": "execute_result"
    }
   ],
   "source": [
    "df.where(col(\"Vehicle_Body_Type\").isNull()).count()"
   ]
  },
  {
   "cell_type": "code",
   "execution_count": 89,
   "metadata": {},
   "outputs": [
    {
     "data": {
      "text/plain": [
       "73050"
      ]
     },
     "execution_count": 89,
     "metadata": {},
     "output_type": "execute_result"
    }
   ],
   "source": [
    "df.where(col(\"Vehicle_Make\") == \"nan\").count()"
   ]
  },
  {
   "cell_type": "code",
   "execution_count": 21,
   "metadata": {},
   "outputs": [
    {
     "data": {
      "text/plain": [
       "0"
      ]
     },
     "execution_count": 21,
     "metadata": {},
     "output_type": "execute_result"
    }
   ],
   "source": [
    "df.where(col(\"Vehicle_Make\").isNull()).count()"
   ]
  },
  {
   "cell_type": "code",
   "execution_count": 90,
   "metadata": {},
   "outputs": [
    {
     "data": {
      "text/plain": [
       "0"
      ]
     },
     "execution_count": 90,
     "metadata": {},
     "output_type": "execute_result"
    }
   ],
   "source": [
    "df.where(col(\"Violation_Precinct\") == \"nan\").count()"
   ]
  },
  {
   "cell_type": "code",
   "execution_count": 22,
   "metadata": {},
   "outputs": [
    {
     "data": {
      "text/plain": [
       "0"
      ]
     },
     "execution_count": 22,
     "metadata": {},
     "output_type": "execute_result"
    }
   ],
   "source": [
    "df.where(col(\"Violation_Precinct\").isNull()).count()"
   ]
  },
  {
   "cell_type": "code",
   "execution_count": 91,
   "metadata": {},
   "outputs": [
    {
     "data": {
      "text/plain": [
       "0"
      ]
     },
     "execution_count": 91,
     "metadata": {},
     "output_type": "execute_result"
    }
   ],
   "source": [
    "df.where(col(\"Issuer_Precinct\") == \"nan\").count()"
   ]
  },
  {
   "cell_type": "code",
   "execution_count": 23,
   "metadata": {},
   "outputs": [
    {
     "data": {
      "text/plain": [
       "0"
      ]
     },
     "execution_count": 23,
     "metadata": {},
     "output_type": "execute_result"
    }
   ],
   "source": [
    "df.where(col(\"Issuer_Precinct\").isNull()).count()"
   ]
  },
  {
   "cell_type": "code",
   "execution_count": 24,
   "metadata": {},
   "outputs": [
    {
     "data": {
      "text/plain": [
       "0"
      ]
     },
     "execution_count": 24,
     "metadata": {},
     "output_type": "execute_result"
    }
   ],
   "source": [
    "df.where(col(\"Violation_Time\").isNull()).count()"
   ]
  },
  {
   "cell_type": "code",
   "execution_count": 12,
   "metadata": {},
   "outputs": [
    {
     "data": {
      "text/plain": [
       "63"
      ]
     },
     "execution_count": 12,
     "metadata": {},
     "output_type": "execute_result"
    }
   ],
   "source": [
    "df.where(col(\"Violation_Time\") == \"nan\").count()"
   ]
  },
  {
   "cell_type": "markdown",
   "metadata": {},
   "source": [
    "### Thus it is evident that there are a few null values in the dataframe. We will deal with them if necessary in the further analysis"
   ]
  },
  {
   "cell_type": "markdown",
   "metadata": {},
   "source": [
    "## 2. Find out the number of unique states from where the cars that got parking tickets came. (Hint: Use the column 'Registration State'.)\n",
    "- There is a numeric entry '99' in the column, which should be corrected. Replace it with the state having the maximum entries. Provide the number of unique states again."
   ]
  },
  {
   "cell_type": "code",
   "execution_count": 29,
   "metadata": {},
   "outputs": [
    {
     "data": {
      "text/plain": [
       "67"
      ]
     },
     "execution_count": 29,
     "metadata": {},
     "output_type": "execute_result"
    }
   ],
   "source": [
    "#Number of unique Registration_State\n",
    "\n",
    "df.select('Registration_State').distinct().count()"
   ]
  },
  {
   "cell_type": "code",
   "execution_count": 30,
   "metadata": {},
   "outputs": [
    {
     "data": {
      "text/plain": [
       "36625"
      ]
     },
     "execution_count": 30,
     "metadata": {},
     "output_type": "execute_result"
    }
   ],
   "source": [
    "#Checking count of Registration_State with 99 \n",
    "\n",
    "df.filter((col(\"Registration_State\") == \"99\")).count()"
   ]
  },
  {
   "cell_type": "code",
   "execution_count": 31,
   "metadata": {},
   "outputs": [
    {
     "name": "stdout",
     "output_type": "stream",
     "text": [
      "+------------------+-------+\n",
      "|Registration_State|    Num|\n",
      "+------------------+-------+\n",
      "|                NY|8481061|\n",
      "|                NJ| 925965|\n",
      "|                PA| 285419|\n",
      "|                FL| 144556|\n",
      "|                CT| 141088|\n",
      "|                MA|  85547|\n",
      "|                IN|  80749|\n",
      "|                VA|  72626|\n",
      "|                MD|  61800|\n",
      "|                NC|  55806|\n",
      "+------------------+-------+\n",
      "only showing top 10 rows\n",
      "\n"
     ]
    }
   ],
   "source": [
    "# chceking highest number of registation \n",
    "\n",
    "from pyspark.sql.functions import count\n",
    "from pyspark.sql.functions import desc\n",
    "\n",
    "df.groupBy(\"Registration_State\").agg(count(\"Registration_State\").alias(\"Num\")).sort(desc('Num')).show(10)"
   ]
  },
  {
   "cell_type": "code",
   "execution_count": 32,
   "metadata": {},
   "outputs": [],
   "source": [
    "#replacing the Registration_State '99' to 'NY' as NY has highest number of registation\n",
    "\n",
    "from pyspark.sql.functions import *\n",
    "df = df.withColumn('Registration_State', regexp_replace('Registration_State', '99', 'NY'))"
   ]
  },
  {
   "cell_type": "code",
   "execution_count": 33,
   "metadata": {},
   "outputs": [
    {
     "data": {
      "text/plain": [
       "0"
      ]
     },
     "execution_count": 33,
     "metadata": {},
     "output_type": "execute_result"
    }
   ],
   "source": [
    "df.filter((col(\"Registration_State\") == \"99\")).count()"
   ]
  },
  {
   "cell_type": "code",
   "execution_count": 34,
   "metadata": {},
   "outputs": [
    {
     "data": {
      "text/plain": [
       "66"
      ]
     },
     "execution_count": 34,
     "metadata": {},
     "output_type": "execute_result"
    }
   ],
   "source": [
    "#Number of unique Registration_State after replacing 99 with 'NY'\n",
    "\n",
    "df.select('Registration_State').distinct().count()"
   ]
  },
  {
   "cell_type": "markdown",
   "metadata": {},
   "source": [
    "# Aggregation tasks"
   ]
  },
  {
   "cell_type": "markdown",
   "metadata": {},
   "source": [
    "## 1. How often does each violation code occur? Display the frequency of the top five violation codes."
   ]
  },
  {
   "cell_type": "code",
   "execution_count": 36,
   "metadata": {},
   "outputs": [
    {
     "data": {
      "text/plain": [
       "100"
      ]
     },
     "execution_count": 36,
     "metadata": {},
     "output_type": "execute_result"
    }
   ],
   "source": [
    "#Total disinct Violation Code Present in file..\n",
    "df.select('Violation_Code').distinct().count()"
   ]
  },
  {
   "cell_type": "code",
   "execution_count": 37,
   "metadata": {},
   "outputs": [
    {
     "name": "stdout",
     "output_type": "stream",
     "text": [
      "+--------------+---------+\n",
      "|Violation_Code|Frequency|\n",
      "+--------------+---------+\n",
      "|            21|  1528588|\n",
      "|            36|  1400614|\n",
      "|            38|  1062304|\n",
      "|            14|   893498|\n",
      "|            20|   618593|\n",
      "+--------------+---------+\n",
      "only showing top 5 rows\n",
      "\n"
     ]
    }
   ],
   "source": [
    "#Top 5 Violation Code Frequency \n",
    "\n",
    "df.groupBy(\"Violation_Code\").agg(count(\"Violation_Code\").alias(\"Frequency\")).sort(desc('Frequency')).show(5)"
   ]
  },
  {
   "cell_type": "markdown",
   "metadata": {},
   "source": [
    "## 2. How often does each 'vehicle body type' get a parking ticket? How about the 'vehicle make'?"
   ]
  },
  {
   "cell_type": "code",
   "execution_count": 41,
   "metadata": {},
   "outputs": [
    {
     "name": "stdout",
     "output_type": "stream",
     "text": [
      "+-----------------+---------------+\n",
      "|Vehicle_Body_Type|Body_type_top_5|\n",
      "+-----------------+---------------+\n",
      "|             SUBN|        3719802|\n",
      "|             4DSD|        3082020|\n",
      "|              VAN|        1411970|\n",
      "|             DELV|         687330|\n",
      "|              SDN|         438191|\n",
      "+-----------------+---------------+\n",
      "only showing top 5 rows\n",
      "\n"
     ]
    }
   ],
   "source": [
    "#Top 5 Vehicle Body Type with maximum violations\n",
    "\n",
    "df.groupBy(\"Vehicle_Body_Type\").agg(count(\"Vehicle_Body_Type\").alias(\"Body_type_top_5\")).sort(desc('Body_type_top_5')).show(5)"
   ]
  },
  {
   "cell_type": "code",
   "execution_count": 44,
   "metadata": {},
   "outputs": [
    {
     "name": "stdout",
     "output_type": "stream",
     "text": [
      "+------------+------------------+\n",
      "|Vehicle_Make|Vehicle_make_top_5|\n",
      "+------------+------------------+\n",
      "|        FORD|           1280958|\n",
      "|       TOYOT|           1211451|\n",
      "|       HONDA|           1079238|\n",
      "|       NISSA|            918590|\n",
      "|       CHEVR|            714655|\n",
      "+------------+------------------+\n",
      "only showing top 5 rows\n",
      "\n"
     ]
    }
   ],
   "source": [
    "#Top 5 Vehicle Make with maximum violations\n",
    "\n",
    "df.groupBy(\"Vehicle_Make\").agg(count(\"Vehicle_Make\").alias(\"Vehicle_make_top_5\")).sort(desc('Vehicle_make_top_5')).show(5)"
   ]
  },
  {
   "cell_type": "markdown",
   "metadata": {},
   "source": [
    "### 3. A precinct is a police station that has a certain zone of the city under its command. Find the (5 highest) frequencies of tickets for each of the following:\n",
    "#### 'Violation Precinct' (This is the precinct of the zone where the violation occurred). Using this, can you draw any insights for parking violations in any specific areas of the city?\n",
    "##### 'Issuer Precinct' (This is the precinct that issued the ticket.)\n",
    "#### Here, you would have noticed that the dataframe has the'Violating Precinct' or 'Issuing Precinct' as '0'. These are erroneous entries. Hence, you need to provide the records for five correct precincts. (Hint: Print the top six entries after sorting.)"
   ]
  },
  {
   "cell_type": "code",
   "execution_count": 46,
   "metadata": {},
   "outputs": [
    {
     "name": "stdout",
     "output_type": "stream",
     "text": [
      "+------------------+------------------------+\n",
      "|Violation_Precinct|Violation_Precinct_top_5|\n",
      "+------------------+------------------------+\n",
      "|                 0|                 2072400|\n",
      "|                19|                  535671|\n",
      "|                14|                  352450|\n",
      "|                 1|                  331810|\n",
      "|                18|                  306920|\n",
      "|               114|                  296514|\n",
      "+------------------+------------------------+\n",
      "only showing top 6 rows\n",
      "\n"
     ]
    }
   ],
   "source": [
    "#Top 5 Violation Precinct. We need to ignore 0 here as it is an incorrect entry\n",
    "\n",
    "df.groupBy(\"Violation_Precinct\").agg(count(\"Violation_Precinct\").alias(\"Violation_Precinct_top_5\")).sort(desc('Violation_Precinct_top_5')).show(6)"
   ]
  },
  {
   "cell_type": "code",
   "execution_count": 47,
   "metadata": {},
   "outputs": [
    {
     "name": "stdout",
     "output_type": "stream",
     "text": [
      "+---------------+---------------------+\n",
      "|Issuer_Precinct|Issuer_Precinct_top_5|\n",
      "+---------------+---------------------+\n",
      "|              0|              2388479|\n",
      "|             19|               521513|\n",
      "|             14|               344977|\n",
      "|              1|               321170|\n",
      "|             18|               296553|\n",
      "|            114|               289950|\n",
      "+---------------+---------------------+\n",
      "only showing top 6 rows\n",
      "\n"
     ]
    }
   ],
   "source": [
    "#Top 5 Issuer Precinct. We need to ignore 0 here as it is an incorrect entry\n",
    "\n",
    "df.groupBy(\"Issuer_Precinct\").agg(count(\"Issuer_Precinct\").alias(\"Issuer_Precinct_top_5\")).sort(desc('Issuer_Precinct_top_5')).show(6)"
   ]
  },
  {
   "cell_type": "markdown",
   "metadata": {},
   "source": [
    "### 4. Find the violation code frequencies for three precincts that have issued the most number of tickets. Do these precinct zones have an exceptionally high frequency of certain violation codes? Are these codes common across precincts?"
   ]
  },
  {
   "cell_type": "code",
   "execution_count": 66,
   "metadata": {},
   "outputs": [],
   "source": [
    "# Register DataFrame as temp table to Run SQL\n",
    "df.createOrReplaceTempView(\"data\")"
   ]
  },
  {
   "cell_type": "code",
   "execution_count": 49,
   "metadata": {},
   "outputs": [
    {
     "name": "stdout",
     "output_type": "stream",
     "text": [
      "+--------------+--------+------------------+-------------------+--------------+-----------------+------------+------------------+---------------+--------------+\n",
      "|Summons_Number|Plate_ID|Registration_State|         Issue_Date|Violation_Code|Vehicle_Body_Type|Vehicle_Make|Violation_Precinct|Issuer_Precinct|Violation_Time|\n",
      "+--------------+--------+------------------+-------------------+--------------+-----------------+------------+------------------+---------------+--------------+\n",
      "|    5092469481| GZH7067|                NY|2016-07-10 00:00:00|             7|             SUBN|       TOYOT|                 0|              0|         0143A|\n",
      "|    5092451658| GZH7067|                NY|2016-07-08 00:00:00|             7|             SUBN|       TOYOT|                 0|              0|         0400P|\n",
      "|    4006265037| FZX9232|                NY|2016-08-23 00:00:00|             5|             SUBN|        FORD|                 0|              0|         0233P|\n",
      "+--------------+--------+------------------+-------------------+--------------+-----------------+------------+------------------+---------------+--------------+\n",
      "only showing top 3 rows\n",
      "\n"
     ]
    }
   ],
   "source": [
    "spark.sql(\"select * from data\").show(3)"
   ]
  },
  {
   "cell_type": "code",
   "execution_count": 93,
   "metadata": {},
   "outputs": [
    {
     "name": "stdout",
     "output_type": "stream",
     "text": [
      "+--------------+-----------+\n",
      "|Violation_Code|Precinct_19|\n",
      "+--------------+-----------+\n",
      "|            46|      86390|\n",
      "|            37|      72437|\n",
      "|            38|      72344|\n",
      "+--------------+-----------+\n",
      "only showing top 3 rows\n",
      "\n"
     ]
    }
   ],
   "source": [
    "# Top 3 Violation Code for Precinct 19\n",
    "spark.sql(\"select  Violation_Code, count(*) as Precinct_19 from data where Issuer_Precinct = 19 group by Violation_Code order by Precinct_19 desc\").show(3)"
   ]
  },
  {
   "cell_type": "code",
   "execution_count": 94,
   "metadata": {},
   "outputs": [
    {
     "name": "stdout",
     "output_type": "stream",
     "text": [
      "+--------------+-----------+\n",
      "|Violation_Code|Precinct_14|\n",
      "+--------------+-----------+\n",
      "|            14|      73837|\n",
      "|            69|      58026|\n",
      "|            31|      39857|\n",
      "+--------------+-----------+\n",
      "only showing top 3 rows\n",
      "\n"
     ]
    }
   ],
   "source": [
    "# Top 3 Violation Code for Precinct 14\n",
    "spark.sql(\"select  Violation_Code, count(*) as Precinct_14 from data where Issuer_Precinct = 14 group by Violation_Code order by Precinct_14 desc\").show(3)"
   ]
  },
  {
   "cell_type": "code",
   "execution_count": 95,
   "metadata": {},
   "outputs": [
    {
     "name": "stdout",
     "output_type": "stream",
     "text": [
      "+--------------+----------+\n",
      "|Violation_Code|Precinct_1|\n",
      "+--------------+----------+\n",
      "|            14|     73522|\n",
      "|            16|     38937|\n",
      "|            20|     27841|\n",
      "+--------------+----------+\n",
      "only showing top 3 rows\n",
      "\n"
     ]
    }
   ],
   "source": [
    "# Top 3 Violation Code for Precinct 1\n",
    "spark.sql(\"select  Violation_Code, count(*) as Precinct_1 from data where Issuer_Precinct = 1 group by Violation_Code order by Precinct_1 desc\").show(3)"
   ]
  },
  {
   "cell_type": "markdown",
   "metadata": {},
   "source": [
    "## 5. Find out the properties of parking violations across different times of the day:\n",
    "- Find a way to deal with missing values, if any. (Hint: Check for the null values using 'isNull' under the SQL. Also, to remove the null values, check the 'dropna' command in the API documentation.)\n",
    "- The Violation Time field is specified in a strange format. Find a way to make this a time attribute that you can use to divide into groups.\n",
    "- Divide 24 hours into six equal discrete bins of time. Choose the intervals as you see fit. For each of these groups, find the three most commonly occurring violations. (Hint: Use the CASE-WHEN in SQL view to segregate into bins. To find the most commonly occurring violations, you can use an approach similar to the one mentioned in the hint for question 4.)\n",
    "- Now, try another direction. For the three most commonly occurring violation codes, find the most common time of the day (in terms of the bins from the previous part)."
   ]
  },
  {
   "cell_type": "code",
   "execution_count": 14,
   "metadata": {},
   "outputs": [
    {
     "data": {
      "text/plain": [
       "63"
      ]
     },
     "execution_count": 14,
     "metadata": {},
     "output_type": "execute_result"
    }
   ],
   "source": [
    "# There are missing values in this column, but isnull() is not able to detect them as mentioned earlier,\n",
    "# the null values in the column are represented by text 'nan'\n",
    "df.where(col(\"Violation_Time\") == \"nan\").count()"
   ]
  },
  {
   "cell_type": "code",
   "execution_count": 15,
   "metadata": {},
   "outputs": [],
   "source": [
    "# There are 63 null values which we will remove\n",
    "df_no_null = df.filter((col(\"Violation_Time\") != \"nan\"))"
   ]
  },
  {
   "cell_type": "code",
   "execution_count": 19,
   "metadata": {},
   "outputs": [],
   "source": [
    "# The violation time is in the format HHMM(AM/PM). We will concat M at the end and convert it into datetime format\n",
    "df_no_null = df_no_null.withColumn(\"Violation_Time\",concat(col(\"Violation_Time\"),lit(\"M\")))"
   ]
  },
  {
   "cell_type": "code",
   "execution_count": 21,
   "metadata": {},
   "outputs": [],
   "source": [
    "df_no_null = df_no_null.withColumn(\"Violation_Time\",to_timestamp(\"Violation_Time\",\"hhmma\"))"
   ]
  },
  {
   "cell_type": "code",
   "execution_count": 23,
   "metadata": {},
   "outputs": [],
   "source": [
    "# Register DataFrame as temp table to Run SQL\n",
    "df_no_null.createOrReplaceTempView(\"data_q5\")"
   ]
  },
  {
   "cell_type": "code",
   "execution_count": 56,
   "metadata": {},
   "outputs": [
    {
     "name": "stdout",
     "output_type": "stream",
     "text": [
      "+--------------+--------+-------------+-------+---------+-------+-----+\n",
      "|Violation_Code|Midnight|Early_Morning|Morning|Afternoon|Evening|Night|\n",
      "+--------------+--------+-------------+-------+---------+-------+-----+\n",
      "|            21|   55436|       498330| 945652|     4536|    422|  287|\n",
      "|            14|   26300|       207957| 260338|   279224|  78490|33160|\n",
      "|            36|       0|       170484| 826311|   394403|   9416|    0|\n",
      "|            40|   50777|       139381| 128150|   123008|  37348|34688|\n",
      "|            20|   22746|       129826| 170467|   215704|  53387|22323|\n",
      "|            71|    8005|        85693| 195524|   190989|  33880| 5919|\n",
      "|             7|   30162|        62859| 113871|   151209| 112971|45323|\n",
      "|            46|   13904|        57439| 243282|   209325|  57276|16977|\n",
      "|            38|     578|        52544| 402653|   453644| 124026|28842|\n",
      "|            19|   10529|        47441| 102180|    90105|  26308|12462|\n",
      "|            69|       2|        43708|  69805|    61246|   8709|   39|\n",
      "|            70|    3605|        43206| 104543|    99882|  18486| 3391|\n",
      "|            84|     217|        29000|  25820|    14128|   1873|  503|\n",
      "|            50|    8228|        25729|  28966|    24915|   7266| 4401|\n",
      "|            16|     520|        25686|  63580|    58453|  11267|  722|\n",
      "|             5|       2|        23742|  29550|    47209|  45151|    0|\n",
      "|            74|    4534|        23570|  35770|    35499|   8822| 3661|\n",
      "|            47|      35|        23387|  54470|    32458|   3530|   44|\n",
      "|            24|     847|        22254|  18758|    23291|   3657| 1230|\n",
      "|            31|      74|        18709|  40320|    68058|  19334|  176|\n",
      "+--------------+--------+-------------+-------+---------+-------+-----+\n",
      "only showing top 20 rows\n",
      "\n"
     ]
    }
   ],
   "source": [
    "# This provides an overall view of the type of traffic violation per different time of the day\n",
    "spark.sql(\"select Violation_Code, count(CASE WHEN HOUR(Violation_Time) >= 0 AND HOUR(Violation_Time) <= 4 THEN 1 END) as Midnight, \\\n",
    "count(CASE WHEN HOUR(Violation_Time) > 4 AND HOUR(Violation_Time) <= 8 THEN 1 END) as Early_Morning, \\\n",
    "count(CASE WHEN HOUR(Violation_Time) > 8 AND HOUR(Violation_Time) <= 12 THEN 1 END) as Morning, \\\n",
    "count(CASE WHEN HOUR(Violation_Time) > 12 AND HOUR(Violation_Time) <= 16 THEN 1 END) as Afternoon, \\\n",
    "count(CASE WHEN HOUR(Violation_Time) > 16 AND HOUR(Violation_Time) <= 20 THEN 1 END) as Evening, \\\n",
    "count(CASE WHEN HOUR(Violation_Time) > 20 THEN 1 END) as Night from data_q5 group by Violation_Code order by Early_Morning desc\").show()"
   ]
  },
  {
   "cell_type": "code",
   "execution_count": 58,
   "metadata": {},
   "outputs": [
    {
     "name": "stdout",
     "output_type": "stream",
     "text": [
      "+--------------+--------+\n",
      "|Violation_Code|Midnight|\n",
      "+--------------+--------+\n",
      "|            21|   55436|\n",
      "|            40|   50777|\n",
      "|            78|   31496|\n",
      "|             7|   30162|\n",
      "|            14|   26300|\n",
      "+--------------+--------+\n",
      "only showing top 5 rows\n",
      "\n"
     ]
    }
   ],
   "source": [
    "# Let's check for each of the time periods which are the top violation codes\n",
    "# Top 5 violation codes for Midnight (12am to 4am)\n",
    "spark.sql(\"select Violation_Code, count(CASE WHEN HOUR(Violation_Time) >= 0 AND HOUR(Violation_Time) <= 4 THEN 1 END) as Midnight \\\n",
    "from data_q5 group by Violation_Code order by Midnight desc\").show(5)"
   ]
  },
  {
   "cell_type": "code",
   "execution_count": 59,
   "metadata": {},
   "outputs": [
    {
     "name": "stdout",
     "output_type": "stream",
     "text": [
      "+--------------+-------------+\n",
      "|Violation_Code|Early_Morning|\n",
      "+--------------+-------------+\n",
      "|            21|       500166|\n",
      "|            14|       210175|\n",
      "|            36|       170484|\n",
      "|            40|       145421|\n",
      "|            20|       132068|\n",
      "+--------------+-------------+\n",
      "only showing top 5 rows\n",
      "\n"
     ]
    }
   ],
   "source": [
    "# Top 5 violation codes for Early Morning (4am to 8am)\n",
    "spark.sql(\"select Violation_Code, count(CASE WHEN HOUR(Violation_Time) >= 4 AND HOUR(Violation_Time) <= 8 THEN 1 END) as Early_Morning \\\n",
    "from data_q5 group by Violation_Code order by Early_Morning desc\").show(5)"
   ]
  },
  {
   "cell_type": "code",
   "execution_count": 60,
   "metadata": {},
   "outputs": [
    {
     "name": "stdout",
     "output_type": "stream",
     "text": [
      "+--------------+-------+\n",
      "|Violation_Code|Morning|\n",
      "+--------------+-------+\n",
      "|            21|1326352|\n",
      "|            36| 962856|\n",
      "|            38| 453023|\n",
      "|            14| 329238|\n",
      "|            46| 270122|\n",
      "+--------------+-------+\n",
      "only showing top 5 rows\n",
      "\n"
     ]
    }
   ],
   "source": [
    "# Top 5 violation codes for Morning (8am to 12pm)\n",
    "spark.sql(\"select Violation_Code, count(CASE WHEN HOUR(Violation_Time) >= 8 AND HOUR(Violation_Time) <= 12 THEN 1 END) as Morning \\\n",
    "from data_q5 group by Violation_Code order by Morning desc\").show(5)"
   ]
  },
  {
   "cell_type": "code",
   "execution_count": 61,
   "metadata": {},
   "outputs": [
    {
     "name": "stdout",
     "output_type": "stream",
     "text": [
      "+--------------+---------+\n",
      "|Violation_Code|Afternoon|\n",
      "+--------------+---------+\n",
      "|            36|   605837|\n",
      "|            38|   560149|\n",
      "|            37|   410966|\n",
      "|            14|   334178|\n",
      "|            46|   265753|\n",
      "+--------------+---------+\n",
      "only showing top 5 rows\n",
      "\n"
     ]
    }
   ],
   "source": [
    "# Top 5 violation codes for Afternoon (12pm to 4pm)\n",
    "spark.sql(\"select Violation_Code, count(CASE WHEN HOUR(Violation_Time) >= 12 AND HOUR(Violation_Time) <= 16 THEN 1 END) as Afternoon \\\n",
    "from data_q5 group by Violation_Code order by Afternoon desc\").show(5)"
   ]
  },
  {
   "cell_type": "code",
   "execution_count": 62,
   "metadata": {},
   "outputs": [
    {
     "name": "stdout",
     "output_type": "stream",
     "text": [
      "+--------------+-------+\n",
      "|Violation_Code|Evening|\n",
      "+--------------+-------+\n",
      "|            38| 221419|\n",
      "|            14| 156366|\n",
      "|             7| 152038|\n",
      "|            37| 151692|\n",
      "|            46|  93704|\n",
      "+--------------+-------+\n",
      "only showing top 5 rows\n",
      "\n"
     ]
    }
   ],
   "source": [
    "# Top 5 violation codes for Evening (4pm to 8pm)\n",
    "spark.sql(\"select Violation_Code, count(CASE WHEN HOUR(Violation_Time) >= 16 AND HOUR(Violation_Time) <= 20 THEN 1 END) as Evening \\\n",
    "from data_q5 group by Violation_Code order by Evening desc\").show(5)"
   ]
  },
  {
   "cell_type": "code",
   "execution_count": 63,
   "metadata": {},
   "outputs": [
    {
     "name": "stdout",
     "output_type": "stream",
     "text": [
      "+--------------+-----+\n",
      "|Violation_Code|Night|\n",
      "+--------------+-----+\n",
      "|             7|65593|\n",
      "|            38|47029|\n",
      "|            14|44778|\n",
      "|            40|44541|\n",
      "|            20|31084|\n",
      "+--------------+-----+\n",
      "only showing top 5 rows\n",
      "\n"
     ]
    }
   ],
   "source": [
    "# Top 5 violation codes for Night (8pm to 12am)\n",
    "spark.sql(\"select Violation_Code, count(CASE WHEN HOUR(Violation_Time) >= 20 THEN 1 END) as Night \\\n",
    "from data_q5 group by Violation_Code order by Night desc\").show(5)"
   ]
  },
  {
   "cell_type": "markdown",
   "metadata": {},
   "source": [
    "### The three most commonly occuring violations are 14, 38 and 46"
   ]
  },
  {
   "cell_type": "markdown",
   "metadata": {},
   "source": [
    "### For these three violations let's find the most common time of day"
   ]
  },
  {
   "cell_type": "code",
   "execution_count": 64,
   "metadata": {},
   "outputs": [
    {
     "name": "stdout",
     "output_type": "stream",
     "text": [
      "+--------+-------------+-------+---------+-------+-----+\n",
      "|Midnight|Early_Morning|Morning|Afternoon|Evening|Night|\n",
      "+--------+-------------+-------+---------+-------+-----+\n",
      "|   40782|       317940| 906273|   942193| 259792|78979|\n",
      "+--------+-------------+-------+---------+-------+-----+\n",
      "\n"
     ]
    }
   ],
   "source": [
    "spark.sql(\"select count(CASE WHEN HOUR(Violation_Time) >= 0 AND HOUR(Violation_Time) <= 4 THEN 1 END) as Midnight, \\\n",
    "count(CASE WHEN HOUR(Violation_Time) > 4 AND HOUR(Violation_Time) <= 8 THEN 1 END) as Early_Morning, \\\n",
    "count(CASE WHEN HOUR(Violation_Time) > 8 AND HOUR(Violation_Time) <= 12 THEN 1 END) as Morning, \\\n",
    "count(CASE WHEN HOUR(Violation_Time) > 12 AND HOUR(Violation_Time) <= 16 THEN 1 END) as Afternoon, \\\n",
    "count(CASE WHEN HOUR(Violation_Time) > 16 AND HOUR(Violation_Time) <= 20 THEN 1 END) as Evening, \\\n",
    "count(CASE WHEN HOUR(Violation_Time) > 20 THEN 1 END) as Night from data_q5 where Violation_Code in (14,38,46)\").show()"
   ]
  },
  {
   "cell_type": "markdown",
   "metadata": {},
   "source": [
    "### Thus for the top three violations Mornings and Afternoons are the most common"
   ]
  },
  {
   "cell_type": "markdown",
   "metadata": {},
   "source": [
    "## 6. Let’s try and find some seasonality in this data:\n",
    "\n",
    "- First, divide the year into a certain number of seasons, and find the frequencies of tickets for each season. (Hint: Use Issue Date to segregate into seasons.)\n",
    "\n",
    "- Then, find the three most common violations for each of these seasons.\n",
    "(Hint: You can use an approach similar to the one mentioned in the hint for question 4.)"
   ]
  },
  {
   "cell_type": "code",
   "execution_count": 69,
   "metadata": {},
   "outputs": [
    {
     "name": "stdout",
     "output_type": "stream",
     "text": [
      "+-------+-------+-------+-------+\n",
      "| Spring| Summer| Autumn| Winter|\n",
      "+-------+-------+-------+-------+\n",
      "|2880687|2606208|2830802|2485331|\n",
      "+-------+-------+-------+-------+\n",
      "\n"
     ]
    }
   ],
   "source": [
    "# Let's categorize the data into seasons and take count of tickets for each season\n",
    "spark.sql(\"select count(CASE WHEN MONTH(Issue_Date) >= 3 AND MONTH(Issue_Date) < 6 THEN 1 END) as Spring, \\\n",
    "count(CASE WHEN MONTH(Issue_Date) >= 6 AND MONTH(Issue_Date) < 9 THEN 1 END) as Summer, \\\n",
    "count(CASE WHEN MONTH(Issue_Date) >= 9 AND MONTH(Issue_Date) < 12 THEN 1 END) as Autumn, \\\n",
    "count(CASE WHEN MONTH(Issue_Date) = 12 OR MONTH(Issue_Date) < 3 THEN 1 END) as Winter from data\").show()"
   ]
  },
  {
   "cell_type": "code",
   "execution_count": null,
   "metadata": {},
   "outputs": [],
   "source": [
    "# Let's look at the top 3 violations of each of these seasons"
   ]
  },
  {
   "cell_type": "code",
   "execution_count": 72,
   "metadata": {},
   "outputs": [
    {
     "name": "stdout",
     "output_type": "stream",
     "text": [
      "+--------------+------+\n",
      "|Violation_Code|Spring|\n",
      "+--------------+------+\n",
      "|            21|402807|\n",
      "|            36|344834|\n",
      "|            38|271192|\n",
      "+--------------+------+\n",
      "only showing top 3 rows\n",
      "\n"
     ]
    }
   ],
   "source": [
    "# Top 3 violations for Spring\n",
    "spark.sql(\"select Violation_Code, count(CASE WHEN MONTH(Issue_Date) >= 3 AND MONTH(Issue_Date) < 6 THEN 1 END) as Spring \\\n",
    "from data group by Violation_Code order by Spring desc \").show(3)"
   ]
  },
  {
   "cell_type": "code",
   "execution_count": 73,
   "metadata": {},
   "outputs": [
    {
     "name": "stdout",
     "output_type": "stream",
     "text": [
      "+--------------+------+\n",
      "|Violation_Code|Summer|\n",
      "+--------------+------+\n",
      "|            21|405961|\n",
      "|            38|247561|\n",
      "|            36|240396|\n",
      "+--------------+------+\n",
      "only showing top 3 rows\n",
      "\n"
     ]
    }
   ],
   "source": [
    "# Top 3 violations for Summer\n",
    "spark.sql(\"select Violation_Code, count(CASE WHEN MONTH(Issue_Date) >= 6 AND MONTH(Issue_Date) < 9 THEN 1 END) as Summer \\\n",
    "from data group by Violation_Code order by Summer desc \").show(3)"
   ]
  },
  {
   "cell_type": "code",
   "execution_count": 74,
   "metadata": {},
   "outputs": [
    {
     "name": "stdout",
     "output_type": "stream",
     "text": [
      "+--------------+------+\n",
      "|Violation_Code|Autumn|\n",
      "+--------------+------+\n",
      "|            36|456046|\n",
      "|            21|357479|\n",
      "|            38|283828|\n",
      "+--------------+------+\n",
      "only showing top 3 rows\n",
      "\n"
     ]
    }
   ],
   "source": [
    "# Top 3 violations for Autumn\n",
    "spark.sql(\"select Violation_Code, count(CASE WHEN MONTH(Issue_Date) >= 9 AND MONTH(Issue_Date) < 12 THEN 1 END) as Autumn \\\n",
    "from data group by Violation_Code order by Autumn desc \").show(3)"
   ]
  },
  {
   "cell_type": "code",
   "execution_count": 75,
   "metadata": {},
   "outputs": [
    {
     "name": "stdout",
     "output_type": "stream",
     "text": [
      "+--------------+------+\n",
      "|Violation_Code|Winter|\n",
      "+--------------+------+\n",
      "|            85|     0|\n",
      "|            53|     0|\n",
      "|            65|     0|\n",
      "+--------------+------+\n",
      "only showing top 3 rows\n",
      "\n"
     ]
    }
   ],
   "source": [
    "# Top 3 violations for Winter\n",
    "spark.sql(\"select Violation_Code, count(CASE WHEN MONTH(Issue_Date) == 12 AND MONTH(Issue_Date) < 3 THEN 1 END) as Winter \\\n",
    "from data group by Violation_Code order by Winter desc \").show(3)"
   ]
  },
  {
   "cell_type": "markdown",
   "metadata": {},
   "source": [
    "## 7. The fines collected from all the instances of parking violation constitute a source of revenue for the NYC Police Department. Let’s take an example of estimating this for the three most commonly occurring codes:\n",
    "- Find the total occurrences of the three most common violation codes.\n",
    "- Then, visit the website: http://www1.nyc.gov/site/finance/vehicles/services-violation-codes.page\n",
    "- It lists the fines associated with different violation codes. They’re divided into two categories: one for the highest-density locations in the city and the other for the rest of the city. For the sake of simplicity, take the average of the two.\n",
    "- Using this information, find the total amount collected for the three violation codes with the maximum tickets. State the code that has the highest total collection.\n",
    "- What can you intuitively infer from these findings?"
   ]
  },
  {
   "cell_type": "code",
   "execution_count": 79,
   "metadata": {},
   "outputs": [
    {
     "name": "stdout",
     "output_type": "stream",
     "text": [
      "+--------------+---------+\n",
      "|Violation_Code|Frequency|\n",
      "+--------------+---------+\n",
      "|            21|  1528588|\n",
      "|            36|  1400614|\n",
      "|            38|  1062304|\n",
      "+--------------+---------+\n",
      "only showing top 3 rows\n",
      "\n"
     ]
    }
   ],
   "source": [
    "#Let's find the three most common violation codes\n",
    "\n",
    "df.groupBy(\"Violation_Code\").agg(count(\"Violation_Code\").alias(\"Frequency\")).sort(desc('Frequency')).show(3)"
   ]
  },
  {
   "cell_type": "code",
   "execution_count": null,
   "metadata": {},
   "outputs": [],
   "source": [
    "# Fines for Violation Codes\n",
    "# 21 - Street Cleaning: No parking where parking is not allowed by sign, street marking or traffic control device - 55$\n",
    "# 36 - Exceeding the posted speed limit in or near a designated school zone - 50$\n",
    "# 38 - Failing to show a receipt or tag in the windshield - 50$"
   ]
  },
  {
   "cell_type": "code",
   "execution_count": 80,
   "metadata": {},
   "outputs": [
    {
     "data": {
      "text/plain": [
       "84072340"
      ]
     },
     "execution_count": 80,
     "metadata": {},
     "output_type": "execute_result"
    }
   ],
   "source": [
    "# Finding collection for each of these violation codes\n",
    "# Collection for Violation Code 21\n",
    "df.filter((col(\"Violation_Code\") == \"21\")).count()* 55"
   ]
  },
  {
   "cell_type": "code",
   "execution_count": 81,
   "metadata": {},
   "outputs": [
    {
     "data": {
      "text/plain": [
       "70030700"
      ]
     },
     "execution_count": 81,
     "metadata": {},
     "output_type": "execute_result"
    }
   ],
   "source": [
    "# Collection for Violation Code 36\n",
    "df.filter((col(\"Violation_Code\") == \"36\")).count()* 50"
   ]
  },
  {
   "cell_type": "code",
   "execution_count": 82,
   "metadata": {},
   "outputs": [
    {
     "data": {
      "text/plain": [
       "53115200"
      ]
     },
     "execution_count": 82,
     "metadata": {},
     "output_type": "execute_result"
    }
   ],
   "source": [
    "# Collection for Violation Code 38\n",
    "df.filter((col(\"Violation_Code\") == \"38\")).count()* 50"
   ]
  },
  {
   "cell_type": "markdown",
   "metadata": {},
   "source": [
    "### Thus the Violation Code 21 has maximum collection as well as count. Evident from the description as well, it is the most common traffic violation and with its high fine, it is the most productive violation "
   ]
  },
  {
   "cell_type": "code",
   "execution_count": null,
   "metadata": {},
   "outputs": [],
   "source": []
  }
 ],
 "metadata": {
  "kernelspec": {
   "display_name": "Python 3",
   "language": "python",
   "name": "python3"
  },
  "language_info": {
   "codemirror_mode": {
    "name": "ipython",
    "version": 3
   },
   "file_extension": ".py",
   "mimetype": "text/x-python",
   "name": "python",
   "nbconvert_exporter": "python",
   "pygments_lexer": "ipython3",
   "version": "3.6.5"
  }
 },
 "nbformat": 4,
 "nbformat_minor": 2
}
